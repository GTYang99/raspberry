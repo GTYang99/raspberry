{
 "cells": [
  {
   "cell_type": "code",
   "execution_count": 22,
   "metadata": {},
   "outputs": [],
   "source": [
    "class Person():\n",
    "    def __init__(self,name,age=40,height=180,weight=70):\n",
    "        # attribute\n",
    "        self.name = name\n",
    "        self.age = age\n",
    "        self.height = height\n",
    "        self.weight = weight\n"
   ]
  },
  {
   "cell_type": "code",
   "execution_count": 24,
   "metadata": {},
   "outputs": [
    {
     "name": "stdout",
     "output_type": "stream",
     "text": [
      "Robert\n",
      "40\n",
      "180\n",
      "70\n",
      "Alice\n",
      "12\n",
      "160\n",
      "40\n",
      "Tim\n",
      "18\n",
      "155\n",
      "38\n"
     ]
    }
   ],
   "source": [
    "# 物件建立實體後，取出物件封裝的建構子\n",
    "p1 = Person('Robert')\n",
    "print(p1.name)\n",
    "print(p1.age)\n",
    "print(p1.height)\n",
    "print(p1.weight)\n",
    "# 實體物件輸入引用參數名稱\n",
    "p2 = Person('Alice',height=160,age=12,weight=40)\n",
    "print(p2.name)\n",
    "print(p2.age)\n",
    "print(p2.height)\n",
    "print(p2.weight)\n",
    "# 實體物件輸入位置參數\n",
    "p3 = Person('Tim',18,155,38)\n",
    "print(p3.name)\n",
    "print(p3.age)\n",
    "print(p3.height)\n",
    "print(p3.weight)"
   ]
  },
  {
   "cell_type": "code",
   "execution_count": null,
   "metadata": {},
   "outputs": [
    {
     "data": {
      "text/plain": [
       "{'name': 'Robert', 'age': 40, 'height': 180, 'weight': 70}"
      ]
     },
     "execution_count": 19,
     "metadata": {},
     "output_type": "execute_result"
    }
   ],
   "source": [
    "# 顯示物件初值內容\n",
    "Person.__dict__\n",
    "p1.__dict__"
   ]
  },
  {
   "cell_type": "code",
   "execution_count": null,
   "metadata": {},
   "outputs": [
    {
     "name": "stdout",
     "output_type": "stream",
     "text": [
      "John\n",
      "30\n",
      "170\n",
      "58\n"
     ]
    },
    {
     "data": {
      "text/plain": [
       "{'name': 'John', 'age': 30, 'height': 170, 'weight': 58}"
      ]
     },
     "execution_count": 21,
     "metadata": {},
     "output_type": "execute_result"
    }
   ],
   "source": [
    "kwargs = {\"age\":30,\"height\":170,\"weight\":58}\n",
    "# 解開Dictionary成為引述名稱(key):值(value)\n",
    "p4 = Person('John',**kwargs)\n",
    "print(p4.name)\n",
    "print(p4.age)\n",
    "print(p4.height)\n",
    "print(p4.weight)\n",
    "p4.__dict__"
   ]
  },
  {
   "cell_type": "code",
   "execution_count": 31,
   "metadata": {},
   "outputs": [
    {
     "name": "stdout",
     "output_type": "stream",
     "text": [
      "{}\n",
      "{'height': 168, 'age': 32, 'weight': 75}\n"
     ]
    },
    {
     "data": {
      "text/plain": [
       "{'name': 'Curry', 'age': 40, 'height': 180, 'weight': 70}"
      ]
     },
     "execution_count": 31,
     "metadata": {},
     "output_type": "execute_result"
    }
   ],
   "source": [
    "# 增加property getter 和 setter\n",
    "# 繼承方法\n",
    "class Student(Person):\n",
    "    def __init__(self, name, **kwargs):\n",
    "        print(kwargs)\n",
    "        super().__init__(name)\n",
    "s1 = Student('Johnny')\n",
    "s1.__dict__\n",
    "\n",
    "s2 = Student('Curry',height=168,age=32,weight=75)\n",
    "s2.__dict__"
   ]
  }
 ],
 "metadata": {
  "kernelspec": {
   "display_name": "Python 3.9.2 ('venv01')",
   "language": "python",
   "name": "python3"
  },
  "language_info": {
   "codemirror_mode": {
    "name": "ipython",
    "version": 3
   },
   "file_extension": ".py",
   "mimetype": "text/x-python",
   "name": "python",
   "nbconvert_exporter": "python",
   "pygments_lexer": "ipython3",
   "version": "3.9.2"
  },
  "orig_nbformat": 4,
  "vscode": {
   "interpreter": {
    "hash": "d942666cb05dc1272dec248014ffd40935158a70890c7cab639d8459ec647eb5"
   }
  }
 },
 "nbformat": 4,
 "nbformat_minor": 2
}
